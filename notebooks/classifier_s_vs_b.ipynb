{
 "cells": [
  {
   "cell_type": "code",
   "execution_count": 56,
   "metadata": {},
   "outputs": [],
   "source": [
    "import h5py\n",
    "import pandas as pd\n",
    "import numpy as np\n",
    "import matplotlib.pyplot as plt\n",
    "import sys\n",
    "from sklearn.preprocessing import MinMaxScaler\n",
    "from sklearn.model_selection import train_test_split\n",
    "from sklearn.metrics import roc_curve, auc\n",
    "import tensorflow as tf\n",
    "from tensorflow.keras import layers\n",
    "from tensorflow.keras.callbacks import EarlyStopping\n",
    "\n",
    "sys.path.insert(0, '../scripts/')\n",
    "from variables import *\n"
   ]
  },
  {
   "cell_type": "code",
   "execution_count": 2,
   "metadata": {},
   "outputs": [],
   "source": [
    "def load_data(input_frame):\n",
    "    '''\n",
    "    Input: initial data-frame \n",
    "    Return: another data-frame with some extra variables\n",
    "    '''\n",
    "    \n",
    "    #copy the input_dataframe\n",
    "    output_frame = input_frame.copy()\n",
    "\n",
    "    #Add more variables computed using the initial variables\n",
    "    for jet in [\"j1\", \"j2\"]:\n",
    "        output_frame[\"pt\" + jet] = np.sqrt(input_frame[\"px\" + jet]**2 + input_frame[\"py\" + jet]**2)\n",
    "        output_frame[\"eta\" + jet] = np.arcsinh(input_frame[\"pz\" + jet] / output_frame[\"pt\" + jet])\n",
    "        output_frame[\"phi\" + jet] = np.arctan2(input_frame[\"py\" + jet], input_frame[\"px\" + jet])\n",
    "        output_frame[\"m\" + jet] = input_frame[\"m\" + jet]\n",
    "        output_frame[\"p\" + jet] = np.sqrt(input_frame[\"pz\" + jet]**2 + output_frame[\"pt\" + jet]**2)\n",
    "        output_frame[\"e\" + jet] = np.sqrt(output_frame[\"m\" + jet]**2 + output_frame[\"p\" + jet]**2)\n",
    "        output_frame[\"tau21\" + jet] = input_frame[\"tau2\" + jet] / input_frame[\"tau1\" + jet]\n",
    "        output_frame[\"tau32\" + jet] = input_frame[\"tau3\" + jet] / input_frame[\"tau2\" + jet]\n",
    "    \n",
    "    #Kinematic variables of the di-jet system\n",
    "    output_frame[\"pxjj\"] = output_frame[\"pxj1\"] + output_frame[\"pxj2\"]\n",
    "    output_frame[\"pyjj\"] = output_frame[\"pyj1\"] + output_frame[\"pyj2\"]\n",
    "    output_frame[\"pzjj\"] = output_frame[\"pzj1\"] + output_frame[\"pzj2\"]\n",
    "    output_frame[\"ejj\"] = output_frame[\"ej1\"] + output_frame[\"ej2\"]\n",
    "    output_frame[\"pjj\"] = np.sqrt(output_frame[\"pxjj\"]**2 + output_frame[\"pyjj\"]**2 + output_frame[\"pzjj\"]**2)\n",
    "    output_frame[\"mjj\"] = np.sqrt(output_frame[\"ejj\"]**2 - output_frame[\"pjj\"]**2)\n",
    "    # NaN will appear while dividing by zero tau1 and tau1 variables. The NaNs are removed.\n",
    "    output_frame.dropna(inplace = True)\n",
    "    output_frame.reset_index(drop = True, inplace = True)\n",
    "\n",
    "    \n",
    "    return output_frame"
   ]
  },
  {
   "cell_type": "code",
   "execution_count": 3,
   "metadata": {},
   "outputs": [],
   "source": [
    "raw_input = pd.read_hdf(\"../data/events_anomalydetection_v2.features.h5\")"
   ]
  },
  {
   "cell_type": "code",
   "execution_count": 4,
   "metadata": {},
   "outputs": [
    {
     "name": "stdout",
     "output_type": "stream",
     "text": [
      "Shape of the raw dataframe:  (1100000, 15)\n",
      "Features in the raw dataframe:  ['pxj1', 'pyj1', 'pzj1', 'mj1', 'tau1j1', 'tau2j1', 'tau3j1', 'pxj2', 'pyj2', 'pzj2', 'mj2', 'tau1j2', 'tau2j2', 'tau3j2', 'label']\n"
     ]
    }
   ],
   "source": [
    "rawdata_shape = raw_input.shape\n",
    "rawdata_features = list(raw_input.columns)\n",
    "print(\"Shape of the raw dataframe: \", rawdata_shape)\n",
    "print (\"Features in the raw dataframe: \", rawdata_features)"
   ]
  },
  {
   "cell_type": "code",
   "execution_count": 5,
   "metadata": {},
   "outputs": [],
   "source": [
    "# open the raw input file\n",
    "df_sig_bkg = load_data(raw_input)\n",
    "\n",
    "#signal and background events can be identified using the `label` feature\n",
    "# Signal: label=1\n",
    "# Backgrouns: label=0\n",
    "df_bkg = df_sig_bkg.loc[df_sig_bkg['label'] == 0]\n",
    "df_sig = df_sig_bkg.loc[df_sig_bkg['label'] == 1]"
   ]
  },
  {
   "cell_type": "code",
   "execution_count": 10,
   "metadata": {},
   "outputs": [
    {
     "data": {
      "text/plain": [
       "Index(['pxj1', 'pyj1', 'pzj1', 'mj1', 'tau1j1', 'tau2j1', 'tau3j1', 'pxj2',\n",
       "       'pyj2', 'pzj2', 'mj2', 'tau1j2', 'tau2j2', 'tau3j2', 'label', 'ptj1',\n",
       "       'etaj1', 'phij1', 'pj1', 'ej1', 'tau21j1', 'tau32j1', 'ptj2', 'etaj2',\n",
       "       'phij2', 'pj2', 'ej2', 'tau21j2', 'tau32j2', 'pxjj', 'pyjj', 'pzjj',\n",
       "       'ejj', 'pjj', 'mjj'],\n",
       "      dtype='object')"
      ]
     },
     "execution_count": 10,
     "metadata": {},
     "output_type": "execute_result"
    }
   ],
   "source": [
    "df_sig_bkg.keys()"
   ]
  },
  {
   "cell_type": "code",
   "execution_count": 26,
   "metadata": {},
   "outputs": [
    {
     "data": {
      "text/plain": [
       "(1099847, 14)"
      ]
     },
     "execution_count": 26,
     "metadata": {},
     "output_type": "execute_result"
    }
   ],
   "source": [
    "out_features = [\"ptj1\", \"etaj1\", \"phij1\", \"mj1\", \"ptj2\", \"etaj2\", \"phij2\", \"mj2\", \"tau21j1\", \"tau21j2\", \"mjj\", \"tau32j1\", \"tau32j2\", \"label\"]\n",
    "\n",
    "np_bkg = np.array(df_bkg[out_features])\n",
    "np_sig = np.array(df_sig[out_features])\n",
    "total_dataset = np.concatenate((np_bkg, np_sig))\n",
    "total_dataset.shape"
   ]
  },
  {
   "cell_type": "code",
   "execution_count": 29,
   "metadata": {},
   "outputs": [],
   "source": [
    "np.random.seed(1)\n",
    "\n",
    "indices = np.array(range(len(total_dataset))).astype('int')\n",
    "np.random.shuffle(indices)\n",
    "total_dataset = total_dataset[indices]"
   ]
  },
  {
   "cell_type": "code",
   "execution_count": 34,
   "metadata": {},
   "outputs": [],
   "source": [
    "X = total_dataset[:,:-1]\n",
    "y = total_dataset[:,-1]\n",
    "X_train, X_test, y_train, y_test = train_test_split(X, y, test_size=0.10, random_state=42)\n",
    "scaler = MinMaxScaler((-1,1)).fit(X_train)\n",
    "X_train = scaler.transform(X_train)\n",
    "X_test = scaler.transform(X_test)"
   ]
  },
  {
   "cell_type": "code",
   "execution_count": 46,
   "metadata": {},
   "outputs": [],
   "source": [
    "def classifier_model():    \n",
    "    model = tf.keras.Sequential()\n",
    "#     adam = tf.keras.optimizers.Adam(learning_rate=0.001)\n",
    "    model.add(layers.Dense(64,input_dim = 13,activation ='relu'))\n",
    "    # model.add(layers.Dropout(0.1))\n",
    "    model.add(layers.Dense(64,activation = 'relu'))\n",
    "    # model.add(layers.Dropout(0.1))\n",
    "    model.add(layers.Dense(64,activation = 'relu'))\n",
    "    # model.add(layers.Dropout(0.1))\n",
    "    # model.add(layers.Dense(64,activation = 'relu'))\n",
    "    # model.add(layers.Dropout(0.1))\n",
    "    model.add(layers.Dense(1, activation = 'sigmoid'))\n",
    "    model.compile(optimizer='adam',loss='binary_crossentropy',metrics=['accuracy'])\n",
    "    return model"
   ]
  },
  {
   "cell_type": "code",
   "execution_count": 47,
   "metadata": {},
   "outputs": [],
   "source": [
    "def learningCurveLoss(history):\n",
    "    plt.figure(figsize=(10,8))\n",
    "    plt.plot(history.history['loss'], linewidth=1)\n",
    "    plt.plot(history.history['val_loss'], linewidth=1)\n",
    "    plt.title('Model Loss over Epochs')\n",
    "    plt.ylabel('Loss')\n",
    "    #plt.ylim(0,5)\n",
    "    plt.xlabel('Epoch')\n",
    "    plt.legend(['training sample loss','validation sample loss'])\n",
    "#     plt.savefig('5_tag_learning_curve.png')\n",
    "    plt.show()\n",
    "    plt.close()\n",
    "    #plt.savefig(\"Learning_Curve\")"
   ]
  },
  {
   "cell_type": "code",
   "execution_count": 48,
   "metadata": {},
   "outputs": [],
   "source": [
    "def train_classifier():\n",
    "    classifier = classifier_model()\n",
    "    es = EarlyStopping(monitor='val_loss',min_delta = 1e-5, mode='min', verbose=1, patience=10)\n",
    "\n",
    "#     best_model = tf.keras.callbacks.ModelCheckpoint('/home/elham/anomaly_detection/models/cGAN_4feb2022/cGAN_classifier.h5', verbose=1, save_best_only=True)\n",
    "    best_model = tf.keras.callbacks.ModelCheckpoint('/home/elham/anomaly_detection/models/classifier_20sept2022/classifier.h5', verbose=1, save_best_only=True)\n",
    "    history = classifier.fit(X_train, y_train, epochs=70, batch_size=512,validation_split = 0.2,callbacks=[best_model], verbose = 1)\n",
    "    learningCurveLoss(history)"
   ]
  },
  {
   "cell_type": "code",
   "execution_count": 49,
   "metadata": {},
   "outputs": [
    {
     "name": "stdout",
     "output_type": "stream",
     "text": [
      "Train on 791889 samples, validate on 197973 samples\n",
      "Epoch 1/70\n",
      "790016/791889 [============================>.] - ETA: 0s - loss: 1.2162 - accuracy: 0.8839\n",
      "Epoch 00001: val_loss improved from inf to 0.25142, saving model to /home/elham/anomaly_detection/models/classifier_20sept2022/classifier.h5\n",
      "791889/791889 [==============================] - 12s 15us/sample - loss: 1.2139 - accuracy: 0.8840 - val_loss: 0.2514 - val_accuracy: 0.9205\n",
      "Epoch 2/70\n",
      "788480/791889 [============================>.] - ETA: 0s - loss: 0.4136 - accuracy: 0.9081\n",
      "Epoch 00002: val_loss improved from 0.25142 to 0.20107, saving model to /home/elham/anomaly_detection/models/classifier_20sept2022/classifier.h5\n",
      "791889/791889 [==============================] - 11s 14us/sample - loss: 0.4125 - accuracy: 0.9083 - val_loss: 0.2011 - val_accuracy: 0.9305\n",
      "Epoch 3/70\n",
      "787456/791889 [============================>.] - ETA: 0s - loss: 0.2881 - accuracy: 0.9218\n",
      "Epoch 00003: val_loss improved from 0.20107 to 0.16280, saving model to /home/elham/anomaly_detection/models/classifier_20sept2022/classifier.h5\n",
      "791889/791889 [==============================] - 10s 13us/sample - loss: 0.2876 - accuracy: 0.9219 - val_loss: 0.1628 - val_accuracy: 0.9487\n",
      "Epoch 4/70\n",
      "787968/791889 [============================>.] - ETA: 0s - loss: 0.2067 - accuracy: 0.9348\n",
      "Epoch 00004: val_loss did not improve from 0.16280\n",
      "791889/791889 [==============================] - 10s 12us/sample - loss: 0.2066 - accuracy: 0.9348 - val_loss: 0.2339 - val_accuracy: 0.9115\n",
      "Epoch 5/70\n",
      "787968/791889 [============================>.] - ETA: 0s - loss: 0.1840 - accuracy: 0.9397\n",
      "Epoch 00005: val_loss did not improve from 0.16280\n",
      "791889/791889 [==============================] - 10s 12us/sample - loss: 0.1844 - accuracy: 0.9396 - val_loss: 0.4865 - val_accuracy: 0.8103\n",
      "Epoch 6/70\n",
      "786432/791889 [============================>.] - ETA: 0s - loss: 0.1619 - accuracy: 0.9472\n",
      "Epoch 00006: val_loss improved from 0.16280 to 0.13348, saving model to /home/elham/anomaly_detection/models/classifier_20sept2022/classifier.h5\n",
      "791889/791889 [==============================] - 9s 12us/sample - loss: 0.1619 - accuracy: 0.9472 - val_loss: 0.1335 - val_accuracy: 0.9573\n",
      "Epoch 7/70\n",
      "791040/791889 [============================>.] - ETA: 0s - loss: 0.1470 - accuracy: 0.9515\n",
      "Epoch 00007: val_loss did not improve from 0.13348\n",
      "791889/791889 [==============================] - 10s 13us/sample - loss: 0.1470 - accuracy: 0.9515 - val_loss: 0.1949 - val_accuracy: 0.9283\n",
      "Epoch 8/70\n",
      "790016/791889 [============================>.] - ETA: 0s - loss: 0.1405 - accuracy: 0.9533\n",
      "Epoch 00008: val_loss did not improve from 0.13348\n",
      "791889/791889 [==============================] - 10s 12us/sample - loss: 0.1404 - accuracy: 0.9534 - val_loss: 0.1628 - val_accuracy: 0.9424\n",
      "Epoch 9/70\n",
      "790016/791889 [============================>.] - ETA: 0s - loss: 0.1321 - accuracy: 0.9560\n",
      "Epoch 00009: val_loss improved from 0.13348 to 0.11960, saving model to /home/elham/anomaly_detection/models/classifier_20sept2022/classifier.h5\n",
      "791889/791889 [==============================] - 10s 12us/sample - loss: 0.1323 - accuracy: 0.9560 - val_loss: 0.1196 - val_accuracy: 0.9633\n",
      "Epoch 10/70\n",
      "790528/791889 [============================>.] - ETA: 0s - loss: 0.1276 - accuracy: 0.9574\n",
      "Epoch 00010: val_loss did not improve from 0.11960\n",
      "791889/791889 [==============================] - 9s 12us/sample - loss: 0.1277 - accuracy: 0.9574 - val_loss: 0.1244 - val_accuracy: 0.9574\n",
      "Epoch 11/70\n",
      "790016/791889 [============================>.] - ETA: 0s - loss: 0.1230 - accuracy: 0.9587\n",
      "Epoch 00011: val_loss improved from 0.11960 to 0.11357, saving model to /home/elham/anomaly_detection/models/classifier_20sept2022/classifier.h5\n",
      "791889/791889 [==============================] - 10s 12us/sample - loss: 0.1230 - accuracy: 0.9587 - val_loss: 0.1136 - val_accuracy: 0.9631\n",
      "Epoch 12/70\n",
      "790528/791889 [============================>.] - ETA: 0s - loss: 0.1192 - accuracy: 0.9602\n",
      "Epoch 00012: val_loss did not improve from 0.11357\n",
      "791889/791889 [==============================] - 9s 12us/sample - loss: 0.1192 - accuracy: 0.9602 - val_loss: 0.1147 - val_accuracy: 0.9635\n",
      "Epoch 13/70\n",
      "790528/791889 [============================>.] - ETA: 0s - loss: 0.1157 - accuracy: 0.9614\n",
      "Epoch 00013: val_loss did not improve from 0.11357\n",
      "791889/791889 [==============================] - 9s 12us/sample - loss: 0.1157 - accuracy: 0.9614 - val_loss: 0.1321 - val_accuracy: 0.9534\n",
      "Epoch 14/70\n",
      "788992/791889 [============================>.] - ETA: 0s - loss: 0.1155 - accuracy: 0.9615\n",
      "Epoch 00014: val_loss did not improve from 0.11357\n",
      "791889/791889 [==============================] - 10s 13us/sample - loss: 0.1155 - accuracy: 0.9615 - val_loss: 0.1182 - val_accuracy: 0.9609\n",
      "Epoch 15/70\n",
      "791040/791889 [============================>.] - ETA: 0s - loss: 0.1134 - accuracy: 0.9620\n",
      "Epoch 00015: val_loss improved from 0.11357 to 0.10298, saving model to /home/elham/anomaly_detection/models/classifier_20sept2022/classifier.h5\n",
      "791889/791889 [==============================] - 10s 12us/sample - loss: 0.1134 - accuracy: 0.9620 - val_loss: 0.1030 - val_accuracy: 0.9659\n",
      "Epoch 16/70\n",
      "789504/791889 [============================>.] - ETA: 0s - loss: 0.1091 - accuracy: 0.9636\n",
      "Epoch 00016: val_loss improved from 0.10298 to 0.10245, saving model to /home/elham/anomaly_detection/models/classifier_20sept2022/classifier.h5\n",
      "791889/791889 [==============================] - 10s 13us/sample - loss: 0.1090 - accuracy: 0.9636 - val_loss: 0.1025 - val_accuracy: 0.9656\n",
      "Epoch 17/70\n",
      "787456/791889 [============================>.] - ETA: 0s - loss: 0.1061 - accuracy: 0.9643\n",
      "Epoch 00017: val_loss improved from 0.10245 to 0.10062, saving model to /home/elham/anomaly_detection/models/classifier_20sept2022/classifier.h5\n",
      "791889/791889 [==============================] - 10s 12us/sample - loss: 0.1061 - accuracy: 0.9643 - val_loss: 0.1006 - val_accuracy: 0.9660\n",
      "Epoch 18/70\n",
      "789504/791889 [============================>.] - ETA: 0s - loss: 0.1059 - accuracy: 0.9641\n",
      "Epoch 00018: val_loss did not improve from 0.10062\n",
      "791889/791889 [==============================] - 9s 12us/sample - loss: 0.1059 - accuracy: 0.9641 - val_loss: 0.1172 - val_accuracy: 0.9593\n",
      "Epoch 19/70\n",
      "789504/791889 [============================>.] - ETA: 0s - loss: 0.1019 - accuracy: 0.9655\n",
      "Epoch 00019: val_loss did not improve from 0.10062\n",
      "791889/791889 [==============================] - 9s 12us/sample - loss: 0.1020 - accuracy: 0.9654 - val_loss: 0.1161 - val_accuracy: 0.9609\n",
      "Epoch 20/70\n",
      "790016/791889 [============================>.] - ETA: 0s - loss: 0.1009 - accuracy: 0.9655\n",
      "Epoch 00020: val_loss improved from 0.10062 to 0.09360, saving model to /home/elham/anomaly_detection/models/classifier_20sept2022/classifier.h5\n",
      "791889/791889 [==============================] - 10s 12us/sample - loss: 0.1009 - accuracy: 0.9655 - val_loss: 0.0936 - val_accuracy: 0.9673\n",
      "Epoch 21/70\n",
      "786944/791889 [============================>.] - ETA: 0s - loss: 0.1012 - accuracy: 0.9655\n",
      "Epoch 00021: val_loss did not improve from 0.09360\n",
      "791889/791889 [==============================] - 10s 13us/sample - loss: 0.1012 - accuracy: 0.9655 - val_loss: 0.0977 - val_accuracy: 0.9665\n",
      "Epoch 22/70\n",
      "788992/791889 [============================>.] - ETA: 0s - loss: 0.1004 - accuracy: 0.9657\n",
      "Epoch 00022: val_loss did not improve from 0.09360\n",
      "791889/791889 [==============================] - 10s 13us/sample - loss: 0.1004 - accuracy: 0.9657 - val_loss: 0.0974 - val_accuracy: 0.9652\n",
      "Epoch 23/70\n",
      "791552/791889 [============================>.] - ETA: 0s - loss: 0.0994 - accuracy: 0.9660\n",
      "Epoch 00023: val_loss improved from 0.09360 to 0.09245, saving model to /home/elham/anomaly_detection/models/classifier_20sept2022/classifier.h5\n",
      "791889/791889 [==============================] - 10s 13us/sample - loss: 0.0994 - accuracy: 0.9660 - val_loss: 0.0925 - val_accuracy: 0.9688\n",
      "Epoch 24/70\n",
      "788992/791889 [============================>.] - ETA: 0s - loss: 0.0996 - accuracy: 0.9659\n",
      "Epoch 00024: val_loss did not improve from 0.09245\n",
      "791889/791889 [==============================] - 10s 13us/sample - loss: 0.0997 - accuracy: 0.9658 - val_loss: 0.1086 - val_accuracy: 0.9629\n",
      "Epoch 25/70\n"
     ]
    },
    {
     "name": "stdout",
     "output_type": "stream",
     "text": [
      "787456/791889 [============================>.] - ETA: 0s - loss: 0.0969 - accuracy: 0.9667\n",
      "Epoch 00025: val_loss improved from 0.09245 to 0.09139, saving model to /home/elham/anomaly_detection/models/classifier_20sept2022/classifier.h5\n",
      "791889/791889 [==============================] - 10s 13us/sample - loss: 0.0969 - accuracy: 0.9667 - val_loss: 0.0914 - val_accuracy: 0.9686\n",
      "Epoch 26/70\n",
      "791552/791889 [============================>.] - ETA: 0s - loss: 0.0960 - accuracy: 0.9669\n",
      "Epoch 00026: val_loss did not improve from 0.09139\n",
      "791889/791889 [==============================] - 10s 12us/sample - loss: 0.0960 - accuracy: 0.9669 - val_loss: 0.0934 - val_accuracy: 0.9689\n",
      "Epoch 27/70\n",
      "791040/791889 [============================>.] - ETA: 0s - loss: 0.0961 - accuracy: 0.9671\n",
      "Epoch 00027: val_loss did not improve from 0.09139\n",
      "791889/791889 [==============================] - 10s 12us/sample - loss: 0.0961 - accuracy: 0.9670 - val_loss: 0.0942 - val_accuracy: 0.9671\n",
      "Epoch 28/70\n",
      "788480/791889 [============================>.] - ETA: 0s - loss: 0.0951 - accuracy: 0.9674\n",
      "Epoch 00028: val_loss improved from 0.09139 to 0.08901, saving model to /home/elham/anomaly_detection/models/classifier_20sept2022/classifier.h5\n",
      "791889/791889 [==============================] - 10s 13us/sample - loss: 0.0950 - accuracy: 0.9674 - val_loss: 0.0890 - val_accuracy: 0.9695\n",
      "Epoch 29/70\n",
      "787456/791889 [============================>.] - ETA: 0s - loss: 0.0939 - accuracy: 0.9675\n",
      "Epoch 00029: val_loss did not improve from 0.08901\n",
      "791889/791889 [==============================] - 10s 12us/sample - loss: 0.0939 - accuracy: 0.9675 - val_loss: 0.0955 - val_accuracy: 0.9665\n",
      "Epoch 30/70\n",
      "790016/791889 [============================>.] - ETA: 0s - loss: 0.0936 - accuracy: 0.9678\n",
      "Epoch 00030: val_loss did not improve from 0.08901\n",
      "791889/791889 [==============================] - 10s 12us/sample - loss: 0.0936 - accuracy: 0.9678 - val_loss: 0.0954 - val_accuracy: 0.9660\n",
      "Epoch 31/70\n",
      "788480/791889 [============================>.] - ETA: 0s - loss: 0.0944 - accuracy: 0.9673\n",
      "Epoch 00031: val_loss did not improve from 0.08901\n",
      "791889/791889 [==============================] - 10s 13us/sample - loss: 0.0945 - accuracy: 0.9673 - val_loss: 0.1002 - val_accuracy: 0.9660\n",
      "Epoch 32/70\n",
      "786432/791889 [============================>.] - ETA: 0s - loss: 0.0942 - accuracy: 0.9674\n",
      "Epoch 00032: val_loss did not improve from 0.08901\n",
      "791889/791889 [==============================] - 10s 12us/sample - loss: 0.0941 - accuracy: 0.9674 - val_loss: 0.0907 - val_accuracy: 0.9685\n",
      "Epoch 33/70\n",
      "786944/791889 [============================>.] - ETA: 0s - loss: 0.0922 - accuracy: 0.9682\n",
      "Epoch 00033: val_loss did not improve from 0.08901\n",
      "791889/791889 [==============================] - 10s 12us/sample - loss: 0.0920 - accuracy: 0.9682 - val_loss: 0.0897 - val_accuracy: 0.9689\n",
      "Epoch 34/70\n",
      "791040/791889 [============================>.] - ETA: 0s - loss: 0.0924 - accuracy: 0.9680\n",
      "Epoch 00034: val_loss did not improve from 0.08901\n",
      "791889/791889 [==============================] - 10s 12us/sample - loss: 0.0924 - accuracy: 0.9680 - val_loss: 0.0955 - val_accuracy: 0.9664\n",
      "Epoch 35/70\n",
      "787456/791889 [============================>.] - ETA: 0s - loss: 0.0919 - accuracy: 0.9680\n",
      "Epoch 00035: val_loss did not improve from 0.08901\n",
      "791889/791889 [==============================] - 9s 12us/sample - loss: 0.0919 - accuracy: 0.9680 - val_loss: 0.0898 - val_accuracy: 0.9688\n",
      "Epoch 36/70\n",
      "790528/791889 [============================>.] - ETA: 0s - loss: 0.0918 - accuracy: 0.9683\n",
      "Epoch 00036: val_loss improved from 0.08901 to 0.08727, saving model to /home/elham/anomaly_detection/models/classifier_20sept2022/classifier.h5\n",
      "791889/791889 [==============================] - 9s 12us/sample - loss: 0.0917 - accuracy: 0.9683 - val_loss: 0.0873 - val_accuracy: 0.9695\n",
      "Epoch 37/70\n",
      "791552/791889 [============================>.] - ETA: 0s - loss: 0.0922 - accuracy: 0.9681\n",
      "Epoch 00037: val_loss did not improve from 0.08727\n",
      "791889/791889 [==============================] - 9s 12us/sample - loss: 0.0922 - accuracy: 0.9681 - val_loss: 0.0910 - val_accuracy: 0.9679\n",
      "Epoch 38/70\n",
      "788480/791889 [============================>.] - ETA: 0s - loss: 0.0917 - accuracy: 0.9682\n",
      "Epoch 00038: val_loss improved from 0.08727 to 0.08642, saving model to /home/elham/anomaly_detection/models/classifier_20sept2022/classifier.h5\n",
      "791889/791889 [==============================] - 10s 12us/sample - loss: 0.0917 - accuracy: 0.9682 - val_loss: 0.0864 - val_accuracy: 0.9702\n",
      "Epoch 39/70\n",
      "788480/791889 [============================>.] - ETA: 0s - loss: 0.0901 - accuracy: 0.9686\n",
      "Epoch 00039: val_loss improved from 0.08642 to 0.08470, saving model to /home/elham/anomaly_detection/models/classifier_20sept2022/classifier.h5\n",
      "791889/791889 [==============================] - 10s 13us/sample - loss: 0.0902 - accuracy: 0.9686 - val_loss: 0.0847 - val_accuracy: 0.9703\n",
      "Epoch 40/70\n",
      "789504/791889 [============================>.] - ETA: 0s - loss: 0.0899 - accuracy: 0.9688\n",
      "Epoch 00040: val_loss did not improve from 0.08470\n",
      "791889/791889 [==============================] - 10s 12us/sample - loss: 0.0899 - accuracy: 0.9688 - val_loss: 0.0850 - val_accuracy: 0.9704\n",
      "Epoch 41/70\n",
      "789504/791889 [============================>.] - ETA: 0s - loss: 0.0901 - accuracy: 0.9688\n",
      "Epoch 00041: val_loss improved from 0.08470 to 0.08447, saving model to /home/elham/anomaly_detection/models/classifier_20sept2022/classifier.h5\n",
      "791889/791889 [==============================] - 10s 13us/sample - loss: 0.0900 - accuracy: 0.9688 - val_loss: 0.0845 - val_accuracy: 0.9707\n",
      "Epoch 42/70\n",
      "788992/791889 [============================>.] - ETA: 0s - loss: 0.0898 - accuracy: 0.9687\n",
      "Epoch 00042: val_loss improved from 0.08447 to 0.08434, saving model to /home/elham/anomaly_detection/models/classifier_20sept2022/classifier.h5\n",
      "791889/791889 [==============================] - 10s 12us/sample - loss: 0.0897 - accuracy: 0.9687 - val_loss: 0.0843 - val_accuracy: 0.9705\n",
      "Epoch 43/70\n",
      "788480/791889 [============================>.] - ETA: 0s - loss: 0.0892 - accuracy: 0.9689\n",
      "Epoch 00043: val_loss improved from 0.08434 to 0.08427, saving model to /home/elham/anomaly_detection/models/classifier_20sept2022/classifier.h5\n",
      "791889/791889 [==============================] - 10s 12us/sample - loss: 0.0891 - accuracy: 0.9689 - val_loss: 0.0843 - val_accuracy: 0.9706\n",
      "Epoch 44/70\n",
      "791040/791889 [============================>.] - ETA: 0s - loss: 0.0900 - accuracy: 0.9687\n",
      "Epoch 00044: val_loss improved from 0.08427 to 0.08374, saving model to /home/elham/anomaly_detection/models/classifier_20sept2022/classifier.h5\n",
      "791889/791889 [==============================] - 10s 13us/sample - loss: 0.0899 - accuracy: 0.9687 - val_loss: 0.0837 - val_accuracy: 0.9704\n",
      "Epoch 45/70\n",
      "789504/791889 [============================>.] - ETA: 0s - loss: 0.0895 - accuracy: 0.9688\n",
      "Epoch 00045: val_loss did not improve from 0.08374\n",
      "791889/791889 [==============================] - 10s 12us/sample - loss: 0.0895 - accuracy: 0.9688 - val_loss: 0.0852 - val_accuracy: 0.9703\n",
      "Epoch 46/70\n",
      "791040/791889 [============================>.] - ETA: 0s - loss: 0.0881 - accuracy: 0.9694\n",
      "Epoch 00046: val_loss did not improve from 0.08374\n",
      "791889/791889 [==============================] - 10s 12us/sample - loss: 0.0881 - accuracy: 0.9694 - val_loss: 0.0863 - val_accuracy: 0.9701\n",
      "Epoch 47/70\n",
      "791552/791889 [============================>.] - ETA: 0s - loss: 0.0895 - accuracy: 0.9688\n",
      "Epoch 00047: val_loss did not improve from 0.08374\n",
      "791889/791889 [==============================] - 10s 12us/sample - loss: 0.0895 - accuracy: 0.9688 - val_loss: 0.0892 - val_accuracy: 0.9688\n",
      "Epoch 48/70\n",
      "790016/791889 [============================>.] - ETA: 0s - loss: 0.0881 - accuracy: 0.9691\n",
      "Epoch 00048: val_loss did not improve from 0.08374\n",
      "791889/791889 [==============================] - 10s 13us/sample - loss: 0.0881 - accuracy: 0.9691 - val_loss: 0.0843 - val_accuracy: 0.9706\n",
      "Epoch 49/70\n",
      "789504/791889 [============================>.] - ETA: 0s - loss: 0.0886 - accuracy: 0.9690\n",
      "Epoch 00049: val_loss improved from 0.08374 to 0.08227, saving model to /home/elham/anomaly_detection/models/classifier_20sept2022/classifier.h5\n",
      "791889/791889 [==============================] - 10s 13us/sample - loss: 0.0886 - accuracy: 0.9690 - val_loss: 0.0823 - val_accuracy: 0.9714\n"
     ]
    },
    {
     "name": "stdout",
     "output_type": "stream",
     "text": [
      "Epoch 50/70\n",
      "788992/791889 [============================>.] - ETA: 0s - loss: 0.0882 - accuracy: 0.9692\n",
      "Epoch 00050: val_loss did not improve from 0.08227\n",
      "791889/791889 [==============================] - 10s 13us/sample - loss: 0.0882 - accuracy: 0.9691 - val_loss: 0.0858 - val_accuracy: 0.9699\n",
      "Epoch 51/70\n",
      "789504/791889 [============================>.] - ETA: 0s - loss: 0.0878 - accuracy: 0.9693\n",
      "Epoch 00051: val_loss did not improve from 0.08227\n",
      "791889/791889 [==============================] - 10s 13us/sample - loss: 0.0878 - accuracy: 0.9693 - val_loss: 0.0918 - val_accuracy: 0.9692\n",
      "Epoch 52/70\n",
      "787968/791889 [============================>.] - ETA: 0s - loss: 0.0874 - accuracy: 0.9694\n",
      "Epoch 00052: val_loss did not improve from 0.08227\n",
      "791889/791889 [==============================] - 10s 13us/sample - loss: 0.0874 - accuracy: 0.9694 - val_loss: 0.0865 - val_accuracy: 0.9703\n",
      "Epoch 53/70\n",
      "790528/791889 [============================>.] - ETA: 0s - loss: 0.0872 - accuracy: 0.9694\n",
      "Epoch 00053: val_loss did not improve from 0.08227\n",
      "791889/791889 [==============================] - 10s 12us/sample - loss: 0.0871 - accuracy: 0.9694 - val_loss: 0.0858 - val_accuracy: 0.9705\n",
      "Epoch 54/70\n",
      "787456/791889 [============================>.] - ETA: 0s - loss: 0.0863 - accuracy: 0.9697\n",
      "Epoch 00054: val_loss did not improve from 0.08227\n",
      "791889/791889 [==============================] - 10s 12us/sample - loss: 0.0863 - accuracy: 0.9697 - val_loss: 0.0839 - val_accuracy: 0.9711\n",
      "Epoch 55/70\n",
      "791040/791889 [============================>.] - ETA: 0s - loss: 0.0862 - accuracy: 0.9699\n",
      "Epoch 00055: val_loss did not improve from 0.08227\n",
      "791889/791889 [==============================] - 10s 13us/sample - loss: 0.0862 - accuracy: 0.9699 - val_loss: 0.0968 - val_accuracy: 0.9658\n",
      "Epoch 56/70\n",
      "790528/791889 [============================>.] - ETA: 0s - loss: 0.0861 - accuracy: 0.9699\n",
      "Epoch 00056: val_loss improved from 0.08227 to 0.08095, saving model to /home/elham/anomaly_detection/models/classifier_20sept2022/classifier.h5\n",
      "791889/791889 [==============================] - 10s 13us/sample - loss: 0.0861 - accuracy: 0.9699 - val_loss: 0.0809 - val_accuracy: 0.9715\n",
      "Epoch 57/70\n",
      "787456/791889 [============================>.] - ETA: 0s - loss: 0.0856 - accuracy: 0.9698\n",
      "Epoch 00057: val_loss did not improve from 0.08095\n",
      "791889/791889 [==============================] - 10s 12us/sample - loss: 0.0856 - accuracy: 0.9698 - val_loss: 0.0832 - val_accuracy: 0.9710\n",
      "Epoch 58/70\n",
      "788992/791889 [============================>.] - ETA: 0s - loss: 0.0855 - accuracy: 0.9699\n",
      "Epoch 00058: val_loss did not improve from 0.08095\n",
      "791889/791889 [==============================] - 10s 12us/sample - loss: 0.0855 - accuracy: 0.9699 - val_loss: 0.0814 - val_accuracy: 0.9713\n",
      "Epoch 59/70\n",
      "790528/791889 [============================>.] - ETA: 0s - loss: 0.0847 - accuracy: 0.9704\n",
      "Epoch 00059: val_loss did not improve from 0.08095\n",
      "791889/791889 [==============================] - 10s 12us/sample - loss: 0.0846 - accuracy: 0.9704 - val_loss: 0.0811 - val_accuracy: 0.9712\n",
      "Epoch 60/70\n",
      "788480/791889 [============================>.] - ETA: 0s - loss: 0.0842 - accuracy: 0.9705\n",
      "Epoch 00060: val_loss did not improve from 0.08095\n",
      "791889/791889 [==============================] - 10s 12us/sample - loss: 0.0842 - accuracy: 0.9704 - val_loss: 0.0888 - val_accuracy: 0.9692\n",
      "Epoch 61/70\n",
      "788992/791889 [============================>.] - ETA: 0s - loss: 0.0841 - accuracy: 0.9703\n",
      "Epoch 00061: val_loss did not improve from 0.08095\n",
      "791889/791889 [==============================] - 10s 13us/sample - loss: 0.0842 - accuracy: 0.9703 - val_loss: 0.0919 - val_accuracy: 0.9681\n",
      "Epoch 62/70\n",
      "787456/791889 [============================>.] - ETA: 0s - loss: 0.0848 - accuracy: 0.9702\n",
      "Epoch 00062: val_loss improved from 0.08095 to 0.08053, saving model to /home/elham/anomaly_detection/models/classifier_20sept2022/classifier.h5\n",
      "791889/791889 [==============================] - 10s 12us/sample - loss: 0.0848 - accuracy: 0.9702 - val_loss: 0.0805 - val_accuracy: 0.9713\n",
      "Epoch 63/70\n",
      "791040/791889 [============================>.] - ETA: 0s - loss: 0.0839 - accuracy: 0.9705\n",
      "Epoch 00063: val_loss did not improve from 0.08053\n",
      "791889/791889 [==============================] - 10s 12us/sample - loss: 0.0839 - accuracy: 0.9705 - val_loss: 0.0820 - val_accuracy: 0.9717\n",
      "Epoch 64/70\n",
      "790016/791889 [============================>.] - ETA: 0s - loss: 0.0835 - accuracy: 0.9707\n",
      "Epoch 00064: val_loss did not improve from 0.08053\n",
      "791889/791889 [==============================] - 10s 12us/sample - loss: 0.0835 - accuracy: 0.9706 - val_loss: 0.0846 - val_accuracy: 0.9700\n",
      "Epoch 65/70\n",
      "788992/791889 [============================>.] - ETA: 0s - loss: 0.0829 - accuracy: 0.9710\n",
      "Epoch 00065: val_loss did not improve from 0.08053\n",
      "791889/791889 [==============================] - 10s 12us/sample - loss: 0.0828 - accuracy: 0.9710 - val_loss: 0.1000 - val_accuracy: 0.9650\n",
      "Epoch 66/70\n",
      "786944/791889 [============================>.] - ETA: 0s - loss: 0.0825 - accuracy: 0.9711\n",
      "Epoch 00066: val_loss did not improve from 0.08053\n",
      "791889/791889 [==============================] - 10s 12us/sample - loss: 0.0824 - accuracy: 0.9711 - val_loss: 0.0871 - val_accuracy: 0.9702\n",
      "Epoch 67/70\n",
      "788992/791889 [============================>.] - ETA: 0s - loss: 0.0826 - accuracy: 0.9709\n",
      "Epoch 00067: val_loss improved from 0.08053 to 0.07774, saving model to /home/elham/anomaly_detection/models/classifier_20sept2022/classifier.h5\n",
      "791889/791889 [==============================] - 10s 12us/sample - loss: 0.0827 - accuracy: 0.9709 - val_loss: 0.0777 - val_accuracy: 0.9727\n",
      "Epoch 68/70\n",
      "790528/791889 [============================>.] - ETA: 0s - loss: 0.0813 - accuracy: 0.9714\n",
      "Epoch 00068: val_loss did not improve from 0.07774\n",
      "791889/791889 [==============================] - 10s 13us/sample - loss: 0.0814 - accuracy: 0.9714 - val_loss: 0.0786 - val_accuracy: 0.9724\n",
      "Epoch 69/70\n",
      "791552/791889 [============================>.] - ETA: 0s - loss: 0.0819 - accuracy: 0.9710\n",
      "Epoch 00069: val_loss did not improve from 0.07774\n",
      "791889/791889 [==============================] - 10s 12us/sample - loss: 0.0819 - accuracy: 0.9710 - val_loss: 0.0847 - val_accuracy: 0.9710\n",
      "Epoch 70/70\n",
      "790528/791889 [============================>.] - ETA: 0s - loss: 0.0814 - accuracy: 0.9715\n",
      "Epoch 00070: val_loss did not improve from 0.07774\n",
      "791889/791889 [==============================] - 10s 12us/sample - loss: 0.0813 - accuracy: 0.9715 - val_loss: 0.1088 - val_accuracy: 0.9610\n"
     ]
    },
    {
     "data": {
      "image/png": "[encoded data removed]",
      "text/plain": [
       "<Figure size 720x576 with 1 Axes>"
      ]
     },
     "metadata": {
      "needs_background": "light"
     },
     "output_type": "display_data"
    }
   ],
   "source": [
    "train_classifier()"
   ]
  },
  {
   "cell_type": "code",
   "execution_count": 51,
   "metadata": {},
   "outputs": [],
   "source": [
    "trained_model = tf.keras.models.load_model('/home/elham/anomaly_detection/models/classifier_20sept2022/classifier.h5')\n",
    "\n",
    "y_pred = trained_model.predict(X_test)\n",
    "y_pred = y_pred.reshape(-1,)\n",
    "\n",
    "pred_sig = []; pred_bkg = []\n",
    "for i, true_label in enumerate(y_test):\n",
    "    if true_label == 1:\n",
    "        pred_sig.append(y_pred[i])\n",
    "    else:\n",
    "        pred_bkg.append(y_pred[i])"
   ]
  },
  {
   "cell_type": "code",
   "execution_count": 60,
   "metadata": {},
   "outputs": [
    {
     "data": {
      "text/plain": [
       "<matplotlib.legend.Legend at 0x7fb84c335e50>"
      ]
     },
     "execution_count": 60,
     "metadata": {},
     "output_type": "execute_result"
    },
    {
     "data": {
      "image/png": "[encoded data removed]",
      "text/plain": [
       "<Figure size 576x432 with 1 Axes>"
      ]
     },
     "metadata": {
      "needs_background": "light"
     },
     "output_type": "display_data"
    }
   ],
   "source": [
    "fig = plt.figure(figsize=(8, 6))\n",
    "plt.hist(pred_bkg, bins=50, density = True, color='orange', label='Pythia QCD')\n",
    "plt.hist(pred_sig, bins=50, histtype = \"step\", density = True, linewidth=2, color='b', label='Signal')\n",
    "plt.xticks(fontsize=20)\n",
    "plt.yticks(fontsize=20)\n",
    "# plt.ylim(0, 10.0)\n",
    "\n",
    "plt.xlabel('NN output', fontsize=20)\n",
    "plt.ylabel('Normalized to unity', fontsize=20)\n",
    "#plt.title('Background Rejection vs Signal Efficiency', fontsize=20)\n",
    "plt.legend(frameon=False,fontsize=20)"
   ]
  },
  {
   "cell_type": "code",
   "execution_count": 57,
   "metadata": {},
   "outputs": [
    {
     "name": "stdout",
     "output_type": "stream",
     "text": [
      "0.9838176841998856\n",
      "[0.9838176841998856]\n",
      "[array([0.00000000e+00, 1.00070049e-04, 1.07074952e-02, ...,\n",
      "       1.00000000e+00, 1.00000000e+00, 1.00000000e+00])]\n"
     ]
    },
    {
     "data": {
      "text/plain": [
       "<matplotlib.legend.Legend at 0x7fb864453210>"
      ]
     },
     "execution_count": 57,
     "metadata": {},
     "output_type": "execute_result"
    },
    {
     "data": {
      "image/png": "[encoded data removed]",
      "text/plain": [
       "<Figure size 432x288 with 1 Axes>"
      ]
     },
     "metadata": {
      "needs_background": "light"
     },
     "output_type": "display_data"
    }
   ],
   "source": [
    "auc_list = []\n",
    "tpr_list = []\n",
    "fpr_list = []\n",
    "y_pred = trained_model.predict(X_test) \n",
    "fpr, tpr, thresholds = roc_curve(y_test, y_pred)\n",
    "auc_value = auc(fpr,tpr)\n",
    "auc_list.append(auc_value)\n",
    "fpr_list.append(fpr)\n",
    "tpr_list.append(tpr)\n",
    "plt.plot(fpr, tpr,label=' AUC = %.1f%%'%(auc_value*100.))\n",
    "plt.plot([0, 1], [0, 1], 'k-')\n",
    "print(auc_value)\n",
    "print(auc_list)\n",
    "print(tpr_list)\n",
    "plt.xlabel('False Positive Rate')\n",
    "plt.ylabel('True Positive Rate')\n",
    "plt.title('ROC')\n",
    "plt.legend(loc='lower right')"
   ]
  },
  {
   "cell_type": "code",
   "execution_count": null,
   "metadata": {},
   "outputs": [],
   "source": []
  }
 ],
 "metadata": {
  "kernelspec": {
   "display_name": "Python 3",
   "language": "python",
   "name": "python3"
  },
  "language_info": {
   "codemirror_mode": {
    "name": "ipython",
    "version": 3
   },
   "file_extension": ".py",
   "mimetype": "text/x-python",
   "name": "python",
   "nbconvert_exporter": "python",
   "pygments_lexer": "ipython3",
   "version": "3.7.7"
  }
 },
 "nbformat": 4,
 "nbformat_minor": 4
}
